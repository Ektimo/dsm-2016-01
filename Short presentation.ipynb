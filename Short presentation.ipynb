{
 "cells": [
  {
   "cell_type": "markdown",
   "metadata": {
    "slideshow": {
     "slide_type": "slide"
    }
   },
   "source": [
    "# Hands on introduction to machine learning\n"
   ]
  },
  {
   "cell_type": "markdown",
   "metadata": {},
   "source": [
    "\n",
    "Data Science Slovenia meetup\n",
    "\n",
    "Rok Okorn, CTO at Ektimo\n",
    "\n",
    "![ektimo_logo](http://www.ektimo.si/images/logotip-transparent.png)"
   ]
  },
  {
   "cell_type": "markdown",
   "metadata": {
    "slideshow": {
     "slide_type": "slide"
    }
   },
   "source": [
    "## Basics about Jupyter <img src=\"http://jupyter.org/assets/main-logo.svg\" width=0.5>"
   ]
  },
  {
   "cell_type": "markdown",
   "metadata": {
    "slideshow": {
     "slide_type": "fragment"
    }
   },
   "source": [
    "![jupyter-logo](http://jupyter.org/assets/main-logo.svg)\n",
    "Web application that contains live code, equations, visualizations and explanatory text.\n",
    "0. One notebook that contains code and outputs and also explanatory text.\n",
    "1. Support many programming languages (58), including Python, R, Julia and Scala.\n",
    "2. Share with email, Dropbox, Drive, GitHub and Jupyter Notebook Viewer.\n",
    "3. Can produce rich and interactive outputs."
   ]
  },
  {
   "cell_type": "markdown",
   "metadata": {
    "slideshow": {
     "slide_type": "slide"
    }
   },
   "source": [
    "### Tools and extensions"
   ]
  },
  {
   "cell_type": "markdown",
   "metadata": {
    "slideshow": {
     "slide_type": "fragment"
    }
   },
   "source": [
    "JavaScript extensions:\n",
    "- usability: codefolding, executeTime, latex_envs, limit_output, read_only, search-replace\n",
    "- publishing\n",
    "- styling\n",
    "- slidemode: reveal.js, RISE - liveReveal\n",
    "- testing"
   ]
  },
  {
   "cell_type": "markdown",
   "metadata": {
    "slideshow": {
     "slide_type": "slide"
    }
   },
   "source": [
    "### Collaborate"
   ]
  },
  {
   "cell_type": "markdown",
   "metadata": {
    "slideshow": {
     "slide_type": "fragment"
    }
   },
   "source": [
    "Different options for the collaboration:\n",
    "- coLaboratory\n",
    "- jupyter drive\n",
    "- jupyter hub\n",
    "- local kernels and git\n",
    "\n",
    "And of course you cannot have multiple languages througout the notebook.\n",
    "\n",
    "For the last remart there exists [Beaker Notebook](http://beakernotebook.com) but there are fewer languages supported and no collaboration at this time."
   ]
  },
  {
   "cell_type": "markdown",
   "metadata": {
    "slideshow": {
     "slide_type": "slide"
    }
   },
   "source": [
    "##### coLaboratory\n",
    "0. Outdated.\n",
    "    0. Supports only IPython 2.x\n",
    "1. Supports local Jupyter kernels.\n",
    "2. Single collaborative notebook with multiple (local) kernels."
   ]
  },
  {
   "cell_type": "markdown",
   "metadata": {
    "slideshow": {
     "slide_type": "slide"
    }
   },
   "source": [
    "##### JupyterDrive\n",
    "\n",
    "0. From the authors of coLaboratory\n",
    "1. Itegrates Google drive with Jupyter\n",
    "    0. Jupyter gets access to your Google drive\n",
    "    1. *.ipynb* is then shared with your teammates via google drive\n",
    "    2. After a period of time, you are disconnected from drive which causes loss of code\n",
    "2. Same time saves produce conflicts"
   ]
  },
  {
   "cell_type": "markdown",
   "metadata": {
    "slideshow": {
     "slide_type": "slide"
    }
   },
   "source": [
    "##### JupyterHub\n",
    "\n",
    "0. Runs only on linux\n",
    "1. One server for all users\n",
    "    0. Authentication\n",
    "    1. Same kernels per user\n",
    "    2. No build-in support for sharing notebooks (except drive and shared folders on server)\n",
    "    3. Possible problems with resources (CPU, RAM sharing)\n",
    "2. Certificates for security reasons"
   ]
  },
  {
   "cell_type": "markdown",
   "metadata": {
    "slideshow": {
     "slide_type": "slide"
    }
   },
   "source": [
    "##### Local + git\n",
    "\n",
    "0. Versioning with git, svn, etc.\n",
    "1. Only local kernels\n",
    "2. Git resolves conflicts since *.ipynb* is JSON - **Note: Beware of only one line in whole nb**"
   ]
  },
  {
   "cell_type": "markdown",
   "metadata": {
    "slideshow": {
     "slide_type": "slide"
    }
   },
   "source": [
    "### Present different notebooks\n",
    "\n",
    "1. View jupyterdrive, git\n",
    "2. Finally, I'll show notebook with code :)"
   ]
  }
 ],
 "metadata": {
  "celltoolbar": "Slideshow",
  "kernelspec": {
   "display_name": "R",
   "language": "R",
   "name": "ir"
  },
  "language_info": {
   "codemirror_mode": "r",
   "file_extension": ".r",
   "mimetype": "text/x-r-source",
   "name": "R",
   "pygments_lexer": "r",
   "version": "3.2.3"
  },
  "livereaveal": {
   "height": 720,
   "maxScale": 1.5,
   "minScale": 0.002,
   "paralaxBackgroundImage": "http://www.ektimo.si/wp-si/wp-content/uploads/2014/05/logo_transparent_white1.png",
   "start_slideshow_at": "selected",
   "theme": "serif",
   "transition": "fade",
   "width": 1280
  }
 },
 "nbformat": 4,
 "nbformat_minor": 0
}
